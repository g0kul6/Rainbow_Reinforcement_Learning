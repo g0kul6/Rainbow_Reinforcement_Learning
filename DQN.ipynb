{
 "cells": [
  {
   "cell_type": "markdown",
   "id": "86b80a43",
   "metadata": {},
   "source": [
    "# DQN"
   ]
  },
  {
   "cell_type": "code",
   "execution_count": 1,
   "id": "e6ceca5c",
   "metadata": {},
   "outputs": [],
   "source": [
    "#importing necessary packages\n",
    "import gym\n",
    "import matplotlib.pyplot as plt\n",
    "import numpy as np\n",
    "import torch\n",
    "import torch.nn as nn\n",
    "import torch.nn.functional as F\n",
    "import torch.optim as optim"
   ]
  },
  {
   "cell_type": "code",
   "execution_count": 4,
   "id": "a6d912a4",
   "metadata": {},
   "outputs": [],
   "source": [
    "#getting the device cuda if gpu else cpu\n",
    "device=torch.device(\"cuda\" if torch.cuda.is_available() else 'cpu')"
   ]
  },
  {
   "cell_type": "code",
   "execution_count": 8,
   "id": "2048bbce",
   "metadata": {},
   "outputs": [],
   "source": [
    "#creating the neural network\n",
    "class network(nn.Module):\n",
    "    def __init__(self,in_dimension,out_dimension):\n",
    "        super(network,self).__init()\n",
    "        self.layers=nn.Squential(\n",
    "            nn.Linear(in_dimension,128),\n",
    "            nn.ReLU(),\n",
    "            nn.Linear(128,128),\n",
    "            nn.Linear(128,out_dimension)\n",
    "        )\n",
    "    def forward(self,x:torch.Tensor)->torch.Tensor:\n",
    "        #forward propagation\n",
    "        return self.layers(x)   "
   ]
  },
  {
   "cell_type": "code",
   "execution_count": null,
   "id": "61e4d258",
   "metadata": {},
   "outputs": [],
   "source": []
  }
 ],
 "metadata": {
  "kernelspec": {
   "display_name": "Python 3",
   "language": "python",
   "name": "python3"
  },
  "language_info": {
   "codemirror_mode": {
    "name": "ipython",
    "version": 3
   },
   "file_extension": ".py",
   "mimetype": "text/x-python",
   "name": "python",
   "nbconvert_exporter": "python",
   "pygments_lexer": "ipython3",
   "version": "3.8.10"
  }
 },
 "nbformat": 4,
 "nbformat_minor": 5
}
