{
 "cells": [
  {
   "cell_type": "markdown",
   "id": "86b80a43",
   "metadata": {},
   "source": [
    "# DQN"
   ]
  },
  {
   "cell_type": "code",
   "execution_count": 1,
   "id": "e6ceca5c",
   "metadata": {},
   "outputs": [],
   "source": [
    "#importing necessary packages\n",
    "import gym\n",
    "import matplotlib.pyplot as plt\n",
    "from typing import Dict, List, Tuple\n",
    "from IPython.display import clear_output\n",
    "import numpy as np\n",
    "import torch\n",
    "import torch.nn as nn\n",
    "import torch.nn.functional as F\n",
    "import torch.optim as optim"
   ]
  },
  {
   "cell_type": "code",
   "execution_count": 2,
   "id": "a6d912a4",
   "metadata": {},
   "outputs": [],
   "source": [
    "#getting the device \n",
    "#cuda if gpu else cpu\n",
    "device=torch.device(\"cuda\" if torch.cuda.is_available() else 'cpu')"
   ]
  },
  {
   "cell_type": "markdown",
   "id": "6a207774",
   "metadata": {},
   "source": [
    "### Cartpole environment"
   ]
  },
  {
   "cell_type": "code",
   "execution_count": 3,
   "id": "f47f2bb5",
   "metadata": {},
   "outputs": [],
   "source": [
    "env=gym.make(\"CartPole-v0\")\n",
    "\n",
    "    "
   ]
  },
  {
   "cell_type": "markdown",
   "id": "25372f98",
   "metadata": {},
   "source": [
    "### Network"
   ]
  },
  {
   "cell_type": "code",
   "execution_count": 4,
   "id": "2048bbce",
   "metadata": {},
   "outputs": [],
   "source": [
    "#creating the neural network\n",
    "class Network(nn.Module):\n",
    "    def __init__(self,in_dimension,out_dimension):\n",
    "        super(Network,self).__init__()\n",
    "        #nn model\n",
    "        self.layers=nn.Sequential(\n",
    "            nn.Linear(in_dimension,128),\n",
    "            nn.ReLU(),\n",
    "            nn.Linear(128,128),\n",
    "            nn.Linear(128,out_dimension)\n",
    "        )\n",
    "        \n",
    "    def forward(self,x:torch.Tensor)->torch.Tensor:\n",
    "        #forward propagation\n",
    "        return self.layers(x)   "
   ]
  },
  {
   "cell_type": "markdown",
   "id": "4112dcfe",
   "metadata": {},
   "source": [
    "### Replay buffer"
   ]
  },
  {
   "cell_type": "code",
   "execution_count": 5,
   "id": "692e7c2c",
   "metadata": {},
   "outputs": [],
   "source": [
    "class ReplayBuffer:\n",
    "    def __init__(self,obs_dim,size,batch_size:int=32):\n",
    "        \n",
    "        self.obs_buf = np.zeros([size, obs_dim], dtype=np.float32)\n",
    "        self.next_obs_buf = np.zeros([size, obs_dim], dtype=np.float32)\n",
    "        self.acts_buf = np.zeros([size], dtype=np.float32)\n",
    "        self.rews_buf = np.zeros([size], dtype=np.float32)\n",
    "        self.done_buf = np.zeros(size, dtype=np.float32)\n",
    "        self.max_size, self.batch_size = size, batch_size\n",
    "        self.ptr, self.size, = 0, 0\n",
    "    def store(self,obs,act,rew,next_obs,done):\n",
    "        #storing all necesary info\n",
    "        self.obs_buf[self.ptr] = obs\n",
    "        self.next_obs_buf[self.ptr] = next_obs\n",
    "        self.acts_buf[self.ptr] = act\n",
    "        self.rews_buf[self.ptr] = rew\n",
    "        self.done_buf[self.ptr] = done\n",
    "        self.ptr = (self.ptr + 1) % self.max_size\n",
    "        self.size = min(self.size + 1, self.max_size)\n",
    "    def sample_batch(self) -> Dict[str, np.ndarray]:\n",
    "        #sampling the replay buffer\n",
    "        idxs = np.random.choice(self.size, size=self.batch_size, replace=False)\n",
    "        return dict(obs=self.obs_buf[idxs],next_obs=self.next_obs_buf[idxs],acts=self.acts_buf[idxs],rews=self.rews_buf[idxs],done=self.done_buf[idxs])\n",
    "    def __len__(self):\n",
    "        return self.size"
   ]
  },
  {
   "cell_type": "code",
   "execution_count": 6,
   "id": "927d279e",
   "metadata": {},
   "outputs": [],
   "source": [
    "class DQN:\n",
    "    def __init__(self,env,memory_size,batch_size,target_update,epsilon_decay,max_epsilon=1.00,min_epsilon=0.1,gamma=0.99):\n",
    "        #state size and action size\n",
    "        obs_dim = env.observation_space.shape[0]\n",
    "        action_dim = env.action_space.n\n",
    "        #environment,epsilon and discount factor\n",
    "        self.env = env\n",
    "        self.memory = ReplayBuffer(obs_dim, memory_size, batch_size)\n",
    "        self.batch_size = batch_size\n",
    "        self.epsilon = max_epsilon\n",
    "        self.epsilon_decay = epsilon_decay\n",
    "        self.max_epsilon = max_epsilon\n",
    "        self.min_epsilon = min_epsilon\n",
    "        self.target_update = target_update\n",
    "        self.gamma = gamma\n",
    "        #network\n",
    "        self.dqn = Network(obs_dim, action_dim).to(device)\n",
    "        self.dqn_target = Network(obs_dim, action_dim).to(device)\n",
    "        self.dqn_target.load_state_dict(self.dqn.state_dict())\n",
    "        self.dqn_target.eval()\n",
    "        #optimizer\n",
    "        self.optimizer = optim.Adam(self.dqn.parameters())\n",
    "        #transition to store in memory\n",
    "        self.transition = list()\n",
    "        # mode: train or test\n",
    "        self.is_test = False\n",
    "        \n",
    "    def select_action(self,state)->np.ndarray:\n",
    "        # epsilon greedy policy\n",
    "        if self.epsilon > np.random.random():\n",
    "            selected_action = self.env.action_space.sample()\n",
    "        else:\n",
    "            selected_action = self.dqn(\n",
    "                torch.FloatTensor(state).to(device)).argmax()\n",
    "            selected_action = selected_action.detach().cpu().numpy()\n",
    "        if not self.is_test:\n",
    "            self.transition = [state, selected_action]\n",
    "        return selected_action\n",
    "    def step(self,action)->Tuple[np.ndarray, np.float64, bool]:\n",
    "        #Take an action and return the response of the environment\n",
    "        next_state, reward, done, _ = self.env.step(action)\n",
    "        if not self.is_test:\n",
    "            self.transition += [reward, next_state, done]\n",
    "            self.memory.store(*self.transition)\n",
    "        return next_state, reward, done\n",
    "    def update_model(self) -> torch.Tensor:\n",
    "        #Update the model by gradient descent\n",
    "        samples = self.memory.sample_batch()\n",
    "        loss = self._compute_dqn_loss(samples)\n",
    "        self.optimizer.zero_grad()\n",
    "        loss.backward()\n",
    "        self.optimizer.step()\n",
    "        return loss.item()\n",
    "    def train(self,num_frames,plotting_interval=200):\n",
    "        #train the agent\n",
    "        self.is_test = False\n",
    "        state = self.env.reset()\n",
    "        update_cnt = 0\n",
    "        epsilons = []\n",
    "        losses = []\n",
    "        scores = []\n",
    "        score = 0\n",
    "        for frame_idx in range(1,num_frames+1):\n",
    "            action = self.select_action(state)\n",
    "            next_state, reward, done = self.step(action)\n",
    "            state = next_state\n",
    "            score += reward\n",
    "            # if episode ends\n",
    "            if done:\n",
    "                state = self.env.reset()\n",
    "                scores.append(score)\n",
    "                score = 0\n",
    "            # if training is ready\n",
    "            if len(self.memory) >= self.batch_size:\n",
    "                loss = self.update_model()\n",
    "                losses.append(loss)\n",
    "                update_cnt += 1\n",
    "                # linearly decrease epsilon\n",
    "                self.epsilon = max(self.min_epsilon,self.epsilon-(self.max_epsilon - self.min_epsilon) * self.epsilon_decay)\n",
    "                epsilons.append(self.epsilon)\n",
    "                # if hard update is needed\n",
    "                if update_cnt % self.target_update == 0:\n",
    "                    self._target_hard_update()\n",
    "                # plotting\n",
    "                if frame_idx % plotting_interval == 0:\n",
    "                    self._plot(frame_idx, scores, losses, epsilons)\n",
    "        self.env.close()\n",
    "    def test(self) -> List[np.ndarray]:\n",
    "        #testing the agent\n",
    "        self.is_test = True\n",
    "        state = self.env.reset()\n",
    "        done = False\n",
    "        score = 0\n",
    "        frames = []\n",
    "        while not done:\n",
    "            frames.append(self.env.render(mode=\"rgb_array\"))\n",
    "            action = self.select_action(state)\n",
    "            next_state, reward, done = self.step(action)\n",
    "            state = next_state\n",
    "            score += reward\n",
    "        print(\"score: \", score)\n",
    "        self.env.close()\n",
    "        return frames\n",
    "    def _compute_dqn_loss(self, samples: Dict[str, np.ndarray]) -> torch.Tensor:\n",
    "        #Return dqn loss.\n",
    "        state = torch.FloatTensor(samples[\"obs\"]).to(device)\n",
    "        next_state = torch.FloatTensor(samples[\"next_obs\"]).to(device)\n",
    "        action = torch.LongTensor(samples[\"acts\"].reshape(-1, 1)).to(device)\n",
    "        reward = torch.FloatTensor(samples[\"rews\"].reshape(-1, 1)).to(device)\n",
    "        done = torch.FloatTensor(samples[\"done\"].reshape(-1, 1)).to(device)\n",
    "        # G_t   = r + gamma * v(s_{t+1})  if state != Terminal\n",
    "        #       = r   otherwise\n",
    "        curr_q_value = self.dqn(state).gather(1, action)\n",
    "        next_q_value = self.dqn_target(\n",
    "            next_state\n",
    "        ).max(dim=1, keepdim=True)[0].detach()\n",
    "        mask = 1 - done\n",
    "        target = (reward + self.gamma * next_q_value * mask).to(device)\n",
    "        # calculate dqn loss\n",
    "        loss = F.smooth_l1_loss(curr_q_value, target)\n",
    "        return loss\n",
    "    def _target_hard_update(self):\n",
    "        #Hard update: target <- local\n",
    "        self.dqn_target.load_state_dict(self.dqn.state_dict())\n",
    "    def _plot(self,frame_idx,scores,losses,epsilons):\n",
    "        #Plot the training progresses\n",
    "        clear_output(True)\n",
    "        plt.figure(figsize=(20, 5))\n",
    "        plt.subplot(131)\n",
    "        plt.title('frame %s. score: %s' % (frame_idx, np.mean(scores[-10:])))\n",
    "        plt.plot(scores)\n",
    "        plt.subplot(132)\n",
    "        plt.title('loss')\n",
    "        plt.plot(losses)\n",
    "        plt.subplot(133)\n",
    "        plt.title('epsilons')\n",
    "        plt.plot(epsilons)\n",
    "        plt.show()"
   ]
  },
  {
   "cell_type": "code",
   "execution_count": 7,
   "id": "c4873d5f",
   "metadata": {},
   "outputs": [
    {
     "data": {
      "text/plain": [
       "[777]"
      ]
     },
     "execution_count": 7,
     "metadata": {},
     "output_type": "execute_result"
    }
   ],
   "source": [
    "seed = 777\n",
    "\n",
    "def seed_torch(seed):\n",
    "    torch.manual_seed(seed)\n",
    "    if torch.backends.cudnn.enabled:\n",
    "        torch.backends.cudnn.benchmark = False\n",
    "        torch.backends.cudnn.deterministic = True\n",
    "\n",
    "np.random.seed(seed)\n",
    "seed_torch(seed)\n",
    "env.seed(seed)"
   ]
  },
  {
   "cell_type": "code",
   "execution_count": 8,
   "id": "5fdb7148",
   "metadata": {},
   "outputs": [],
   "source": [
    "# parameters\n",
    "num_frames = 20000\n",
    "memory_size = 1000\n",
    "batch_size = 32\n",
    "target_update = 100\n",
    "epsilon_decay = 1 / 2000\n",
    "\n",
    "agent = DQN(env, memory_size, batch_size, target_update, epsilon_decay)"
   ]
  },
  {
   "cell_type": "code",
   "execution_count": 9,
   "id": "2bf6507b",
   "metadata": {
    "scrolled": true
   },
   "outputs": [
    {
     "data": {
      "image/png": "[encoded data removed]",
      "text/plain": [
       "<Figure size 1440x360 with 3 Axes>"
      ]
     },
     "metadata": {
      "needs_background": "light"
     },
     "output_type": "display_data"
    }
   ],
   "source": [
    "agent.train(num_frames)"
   ]
  },
  {
   "cell_type": "code",
   "execution_count": 10,
   "id": "e79666c4",
   "metadata": {},
   "outputs": [
    {
     "name": "stdout",
     "output_type": "stream",
     "text": [
      "score:  200.0\n"
     ]
    }
   ],
   "source": [
    "frames = agent.test()"
   ]
  },
  {
   "cell_type": "code",
   "execution_count": null,
   "id": "69f8439e",
   "metadata": {},
   "outputs": [],
   "source": []
  }
 ],
 "metadata": {
  "kernelspec": {
   "display_name": "Python 3",
   "language": "python",
   "name": "python3"
  },
  "language_info": {
   "codemirror_mode": {
    "name": "ipython",
    "version": 3
   },
   "file_extension": ".py",
   "mimetype": "text/x-python",
   "name": "python",
   "nbconvert_exporter": "python",
   "pygments_lexer": "ipython3",
   "version": "3.8.10"
  }
 },
 "nbformat": 4,
 "nbformat_minor": 5
}
